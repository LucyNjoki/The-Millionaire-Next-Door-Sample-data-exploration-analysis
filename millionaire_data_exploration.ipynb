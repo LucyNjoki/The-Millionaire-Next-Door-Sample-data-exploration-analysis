{
 "cells": [
  {
   "cell_type": "markdown",
   "metadata": {},
   "source": [
    "Purpose: Importing data(csv) and exploration\n",
    "\n",
    "Date: July 18, 2019\n",
    "\n",
    "Author: Lucy Njoki"
   ]
  },
  {
   "cell_type": "code",
   "execution_count": 1,
   "metadata": {},
   "outputs": [],
   "source": [
    "import pandas as pd\n",
    "\n",
    "import os"
   ]
  },
  {
   "cell_type": "code",
   "execution_count": 2,
   "metadata": {},
   "outputs": [
    {
     "data": {
      "text/plain": [
       "'C:\\\\Users\\\\NYAGAH\\\\Downloads\\\\Documents'"
      ]
     },
     "execution_count": 2,
     "metadata": {},
     "output_type": "execute_result"
    }
   ],
   "source": [
    "#cheking the working directory\n",
    "os.getcwd()"
   ]
  },
  {
   "cell_type": "code",
   "execution_count": 4,
   "metadata": {},
   "outputs": [
    {
     "name": "stdout",
     "output_type": "stream",
     "text": [
      "     Couple  Educ_Level  Salary  Cars  Home  Savings  SC_Index\n",
      "0         1           4      90    19    83      289         3\n",
      "1         2           2      95    35   134     1130         3\n",
      "2         3           2      99    46   110      583         5\n",
      "3         4           3     130    24    69     1049         7\n",
      "4         5           4     126    42   153      612         7\n",
      "5         6           2      73    35   127      650         2\n",
      "6         7           3     111    34    98      675         7\n",
      "7         8           4     140    53   191      347         9\n",
      "8         9           2      52    33   119      420         2\n",
      "9        10           2      99    50   147       39         6\n",
      "10       11           4     101    40   132        5         3\n",
      "11       12           3     134    50   208      553        10\n",
      "12       13           2      62    36    91      659         1\n",
      "13       14           3     139    45   258      648         8\n",
      "14       15           4      84    21   221        5         4\n",
      "15       16           2      46    28   124      630         1\n",
      "16       17           4     104    40   184      698         2\n",
      "17       18           1      54    21    50     1247         1\n",
      "18       19           2      88    49   193      471         4\n",
      "19       20           3     119    57   265       81        10\n",
      "20       21           4     125    59   157        5         8\n",
      "21       22           2      87    40   177      507         6\n",
      "22       23           3      73    52   183        5         4\n",
      "23       24           4     114    46   150       55         4\n",
      "24       25           3     104    49   176      385         5\n",
      "25       26           2     112    53   183      815         7\n",
      "26       27           3     106    44   164      810         4\n",
      "27       28           3     103    42   127      572         4\n",
      "28       29           3     135    59   270      521        10\n",
      "29       30           4      96    40    66      166         3\n",
      "..      ...         ...     ...   ...   ...      ...       ...\n",
      "244     245           4     115    50   161      108         8\n",
      "245     246           1      70    39   139      844         4\n",
      "246     247           2     111    36   111      554         4\n",
      "247     248           4      98    36   178      227         6\n",
      "248     249           3      80    33    56      320         4\n",
      "249     250           1      25    18    50      823         1\n",
      "250     251           4     105    40   148      672         4\n",
      "251     252           2      86    39   178      444         5\n",
      "252     253           4     114    37   154      311         6\n",
      "253     254           3      90    21    50     1044         2\n",
      "254     255           1      70    33    91     1049         2\n",
      "255     256           4      81    25    76      439         2\n",
      "256     257           3     130    52   144      575         6\n",
      "257     258           4      91    40   136      302         2\n",
      "258     259           3     130    59   213      365        10\n",
      "259     260           3      83    30   121      529         2\n",
      "260     261           3     138    55   214      102         9\n",
      "261     262           4     138    40   144      437         6\n",
      "262     263           4     132    43   169      197         9\n",
      "263     264           1      69    21    73     1243         1\n",
      "264     265           3      89    46   238      244         8\n",
      "265     266           4      96    33   224      317         6\n",
      "266     267           3      62    27   171      550         2\n",
      "267     268           3     140    52   220      545        10\n",
      "268     269           2      66    37   100      645         1\n",
      "269     270           2     103    53   206      288         9\n",
      "270     271           4     119    36   168      758         4\n",
      "271     272           4     123    36   153      426         5\n",
      "272     273           4     106    41   191        5         6\n",
      "273     274           2      59    23    50     1205         1\n",
      "\n",
      "[274 rows x 7 columns]\n"
     ]
    }
   ],
   "source": [
    "#loading file using relative path\n",
    "data = pd.read_csv(\"millionaire_data.csv\")\n",
    "print(data)"
   ]
  },
  {
   "cell_type": "code",
   "execution_count": 8,
   "metadata": {},
   "outputs": [
    {
     "name": "stdout",
     "output_type": "stream",
     "text": [
      "     Couple  Educ_Level  Salary  Cars  Home  Savings  SC_Index\n",
      "0         1           4      90    19    83      289         3\n",
      "1         2           2      95    35   134     1130         3\n",
      "2         3           2      99    46   110      583         5\n",
      "3         4           3     130    24    69     1049         7\n",
      "4         5           4     126    42   153      612         7\n",
      "5         6           2      73    35   127      650         2\n",
      "6         7           3     111    34    98      675         7\n",
      "7         8           4     140    53   191      347         9\n",
      "8         9           2      52    33   119      420         2\n",
      "9        10           2      99    50   147       39         6\n",
      "10       11           4     101    40   132        5         3\n",
      "11       12           3     134    50   208      553        10\n",
      "12       13           2      62    36    91      659         1\n",
      "13       14           3     139    45   258      648         8\n",
      "14       15           4      84    21   221        5         4\n",
      "15       16           2      46    28   124      630         1\n",
      "16       17           4     104    40   184      698         2\n",
      "17       18           1      54    21    50     1247         1\n",
      "18       19           2      88    49   193      471         4\n",
      "19       20           3     119    57   265       81        10\n",
      "20       21           4     125    59   157        5         8\n",
      "21       22           2      87    40   177      507         6\n",
      "22       23           3      73    52   183        5         4\n",
      "23       24           4     114    46   150       55         4\n",
      "24       25           3     104    49   176      385         5\n",
      "25       26           2     112    53   183      815         7\n",
      "26       27           3     106    44   164      810         4\n",
      "27       28           3     103    42   127      572         4\n",
      "28       29           3     135    59   270      521        10\n",
      "29       30           4      96    40    66      166         3\n",
      "..      ...         ...     ...   ...   ...      ...       ...\n",
      "244     245           4     115    50   161      108         8\n",
      "245     246           1      70    39   139      844         4\n",
      "246     247           2     111    36   111      554         4\n",
      "247     248           4      98    36   178      227         6\n",
      "248     249           3      80    33    56      320         4\n",
      "249     250           1      25    18    50      823         1\n",
      "250     251           4     105    40   148      672         4\n",
      "251     252           2      86    39   178      444         5\n",
      "252     253           4     114    37   154      311         6\n",
      "253     254           3      90    21    50     1044         2\n",
      "254     255           1      70    33    91     1049         2\n",
      "255     256           4      81    25    76      439         2\n",
      "256     257           3     130    52   144      575         6\n",
      "257     258           4      91    40   136      302         2\n",
      "258     259           3     130    59   213      365        10\n",
      "259     260           3      83    30   121      529         2\n",
      "260     261           3     138    55   214      102         9\n",
      "261     262           4     138    40   144      437         6\n",
      "262     263           4     132    43   169      197         9\n",
      "263     264           1      69    21    73     1243         1\n",
      "264     265           3      89    46   238      244         8\n",
      "265     266           4      96    33   224      317         6\n",
      "266     267           3      62    27   171      550         2\n",
      "267     268           3     140    52   220      545        10\n",
      "268     269           2      66    37   100      645         1\n",
      "269     270           2     103    53   206      288         9\n",
      "270     271           4     119    36   168      758         4\n",
      "271     272           4     123    36   153      426         5\n",
      "272     273           4     106    41   191        5         6\n",
      "273     274           2      59    23    50     1205         1\n",
      "\n",
      "[274 rows x 7 columns]\n"
     ]
    }
   ],
   "source": [
    "#loading data using absolute path\n",
    "data = pd.read_csv(\"C:\\\\Users\\\\NYAGAH\\\\Downloads\\\\Documents\\\\millionaire_data.csv\")\n",
    "print(data)"
   ]
  },
  {
   "cell_type": "code",
   "execution_count": 9,
   "metadata": {},
   "outputs": [
    {
     "data": {
      "text/html": [
       "<div>\n",
       "<style scoped>\n",
       "    .dataframe tbody tr th:only-of-type {\n",
       "        vertical-align: middle;\n",
       "    }\n",
       "\n",
       "    .dataframe tbody tr th {\n",
       "        vertical-align: top;\n",
       "    }\n",
       "\n",
       "    .dataframe thead th {\n",
       "        text-align: right;\n",
       "    }\n",
       "</style>\n",
       "<table border=\"1\" class=\"dataframe\">\n",
       "  <thead>\n",
       "    <tr style=\"text-align: right;\">\n",
       "      <th></th>\n",
       "      <th>Couple</th>\n",
       "      <th>Educ_Level</th>\n",
       "      <th>Salary</th>\n",
       "      <th>Cars</th>\n",
       "      <th>Home</th>\n",
       "      <th>Savings</th>\n",
       "      <th>SC_Index</th>\n",
       "    </tr>\n",
       "  </thead>\n",
       "  <tbody>\n",
       "    <tr>\n",
       "      <th>0</th>\n",
       "      <td>1</td>\n",
       "      <td>4</td>\n",
       "      <td>90</td>\n",
       "      <td>19</td>\n",
       "      <td>83</td>\n",
       "      <td>289</td>\n",
       "      <td>3</td>\n",
       "    </tr>\n",
       "    <tr>\n",
       "      <th>1</th>\n",
       "      <td>2</td>\n",
       "      <td>2</td>\n",
       "      <td>95</td>\n",
       "      <td>35</td>\n",
       "      <td>134</td>\n",
       "      <td>1130</td>\n",
       "      <td>3</td>\n",
       "    </tr>\n",
       "    <tr>\n",
       "      <th>2</th>\n",
       "      <td>3</td>\n",
       "      <td>2</td>\n",
       "      <td>99</td>\n",
       "      <td>46</td>\n",
       "      <td>110</td>\n",
       "      <td>583</td>\n",
       "      <td>5</td>\n",
       "    </tr>\n",
       "    <tr>\n",
       "      <th>3</th>\n",
       "      <td>4</td>\n",
       "      <td>3</td>\n",
       "      <td>130</td>\n",
       "      <td>24</td>\n",
       "      <td>69</td>\n",
       "      <td>1049</td>\n",
       "      <td>7</td>\n",
       "    </tr>\n",
       "    <tr>\n",
       "      <th>4</th>\n",
       "      <td>5</td>\n",
       "      <td>4</td>\n",
       "      <td>126</td>\n",
       "      <td>42</td>\n",
       "      <td>153</td>\n",
       "      <td>612</td>\n",
       "      <td>7</td>\n",
       "    </tr>\n",
       "  </tbody>\n",
       "</table>\n",
       "</div>"
      ],
      "text/plain": [
       "   Couple  Educ_Level  Salary  Cars  Home  Savings  SC_Index\n",
       "0       1           4      90    19    83      289         3\n",
       "1       2           2      95    35   134     1130         3\n",
       "2       3           2      99    46   110      583         5\n",
       "3       4           3     130    24    69     1049         7\n",
       "4       5           4     126    42   153      612         7"
      ]
     },
     "execution_count": 9,
     "metadata": {},
     "output_type": "execute_result"
    }
   ],
   "source": [
    "#checking the first  five rows of data\n",
    "data.head()"
   ]
  },
  {
   "cell_type": "code",
   "execution_count": 10,
   "metadata": {},
   "outputs": [
    {
     "data": {
      "text/html": [
       "<div>\n",
       "<style scoped>\n",
       "    .dataframe tbody tr th:only-of-type {\n",
       "        vertical-align: middle;\n",
       "    }\n",
       "\n",
       "    .dataframe tbody tr th {\n",
       "        vertical-align: top;\n",
       "    }\n",
       "\n",
       "    .dataframe thead th {\n",
       "        text-align: right;\n",
       "    }\n",
       "</style>\n",
       "<table border=\"1\" class=\"dataframe\">\n",
       "  <thead>\n",
       "    <tr style=\"text-align: right;\">\n",
       "      <th></th>\n",
       "      <th>Couple</th>\n",
       "      <th>Educ_Level</th>\n",
       "      <th>Salary</th>\n",
       "      <th>Cars</th>\n",
       "      <th>Home</th>\n",
       "      <th>Savings</th>\n",
       "      <th>SC_Index</th>\n",
       "    </tr>\n",
       "  </thead>\n",
       "  <tbody>\n",
       "    <tr>\n",
       "      <th>269</th>\n",
       "      <td>270</td>\n",
       "      <td>2</td>\n",
       "      <td>103</td>\n",
       "      <td>53</td>\n",
       "      <td>206</td>\n",
       "      <td>288</td>\n",
       "      <td>9</td>\n",
       "    </tr>\n",
       "    <tr>\n",
       "      <th>270</th>\n",
       "      <td>271</td>\n",
       "      <td>4</td>\n",
       "      <td>119</td>\n",
       "      <td>36</td>\n",
       "      <td>168</td>\n",
       "      <td>758</td>\n",
       "      <td>4</td>\n",
       "    </tr>\n",
       "    <tr>\n",
       "      <th>271</th>\n",
       "      <td>272</td>\n",
       "      <td>4</td>\n",
       "      <td>123</td>\n",
       "      <td>36</td>\n",
       "      <td>153</td>\n",
       "      <td>426</td>\n",
       "      <td>5</td>\n",
       "    </tr>\n",
       "    <tr>\n",
       "      <th>272</th>\n",
       "      <td>273</td>\n",
       "      <td>4</td>\n",
       "      <td>106</td>\n",
       "      <td>41</td>\n",
       "      <td>191</td>\n",
       "      <td>5</td>\n",
       "      <td>6</td>\n",
       "    </tr>\n",
       "    <tr>\n",
       "      <th>273</th>\n",
       "      <td>274</td>\n",
       "      <td>2</td>\n",
       "      <td>59</td>\n",
       "      <td>23</td>\n",
       "      <td>50</td>\n",
       "      <td>1205</td>\n",
       "      <td>1</td>\n",
       "    </tr>\n",
       "  </tbody>\n",
       "</table>\n",
       "</div>"
      ],
      "text/plain": [
       "     Couple  Educ_Level  Salary  Cars  Home  Savings  SC_Index\n",
       "269     270           2     103    53   206      288         9\n",
       "270     271           4     119    36   168      758         4\n",
       "271     272           4     123    36   153      426         5\n",
       "272     273           4     106    41   191        5         6\n",
       "273     274           2      59    23    50     1205         1"
      ]
     },
     "execution_count": 10,
     "metadata": {},
     "output_type": "execute_result"
    }
   ],
   "source": [
    "#checking the last five rows of data\n",
    "data.tail()"
   ]
  },
  {
   "cell_type": "code",
   "execution_count": 11,
   "metadata": {},
   "outputs": [
    {
     "data": {
      "text/plain": [
       "Couple        int64\n",
       "Educ_Level    int64\n",
       "Salary        int64\n",
       "Cars          int64\n",
       "Home          int64\n",
       "Savings       int64\n",
       "SC_Index      int64\n",
       "dtype: object"
      ]
     },
     "execution_count": 11,
     "metadata": {},
     "output_type": "execute_result"
    }
   ],
   "source": [
    "#column names\n",
    "data.dtypes"
   ]
  },
  {
   "cell_type": "code",
   "execution_count": 16,
   "metadata": {},
   "outputs": [
    {
     "name": "stdout",
     "output_type": "stream",
     "text": [
      "     Educ_Level\n",
      "0             4\n",
      "1             2\n",
      "2             2\n",
      "3             3\n",
      "4             4\n",
      "5             2\n",
      "6             3\n",
      "7             4\n",
      "8             2\n",
      "9             2\n",
      "10            4\n",
      "11            3\n",
      "12            2\n",
      "13            3\n",
      "14            4\n",
      "15            2\n",
      "16            4\n",
      "17            1\n",
      "18            2\n",
      "19            3\n",
      "20            4\n",
      "21            2\n",
      "22            3\n",
      "23            4\n",
      "24            3\n",
      "25            2\n",
      "26            3\n",
      "27            3\n",
      "28            3\n",
      "29            4\n",
      "..          ...\n",
      "244           4\n",
      "245           1\n",
      "246           2\n",
      "247           4\n",
      "248           3\n",
      "249           1\n",
      "250           4\n",
      "251           2\n",
      "252           4\n",
      "253           3\n",
      "254           1\n",
      "255           4\n",
      "256           3\n",
      "257           4\n",
      "258           3\n",
      "259           3\n",
      "260           3\n",
      "261           4\n",
      "262           4\n",
      "263           1\n",
      "264           3\n",
      "265           4\n",
      "266           3\n",
      "267           3\n",
      "268           2\n",
      "269           2\n",
      "270           4\n",
      "271           4\n",
      "272           4\n",
      "273           2\n",
      "\n",
      "[274 rows x 1 columns]\n",
      "     Educ_Level  Savings\n",
      "0             4      289\n",
      "1             2     1130\n",
      "2             2      583\n",
      "3             3     1049\n",
      "4             4      612\n",
      "5             2      650\n",
      "6             3      675\n",
      "7             4      347\n",
      "8             2      420\n",
      "9             2       39\n",
      "10            4        5\n",
      "11            3      553\n",
      "12            2      659\n",
      "13            3      648\n",
      "14            4        5\n",
      "15            2      630\n",
      "16            4      698\n",
      "17            1     1247\n",
      "18            2      471\n",
      "19            3       81\n",
      "20            4        5\n",
      "21            2      507\n",
      "22            3        5\n",
      "23            4       55\n",
      "24            3      385\n",
      "25            2      815\n",
      "26            3      810\n",
      "27            3      572\n",
      "28            3      521\n",
      "29            4      166\n",
      "..          ...      ...\n",
      "244           4      108\n",
      "245           1      844\n",
      "246           2      554\n",
      "247           4      227\n",
      "248           3      320\n",
      "249           1      823\n",
      "250           4      672\n",
      "251           2      444\n",
      "252           4      311\n",
      "253           3     1044\n",
      "254           1     1049\n",
      "255           4      439\n",
      "256           3      575\n",
      "257           4      302\n",
      "258           3      365\n",
      "259           3      529\n",
      "260           3      102\n",
      "261           4      437\n",
      "262           4      197\n",
      "263           1     1243\n",
      "264           3      244\n",
      "265           4      317\n",
      "266           3      550\n",
      "267           3      545\n",
      "268           2      645\n",
      "269           2      288\n",
      "270           4      758\n",
      "271           4      426\n",
      "272           4        5\n",
      "273           2     1205\n",
      "\n",
      "[274 rows x 2 columns]\n"
     ]
    }
   ],
   "source": [
    "#selecting columns\n",
    "print(data[[\"Educ_Level\"]])\n",
    "print(data[[\"Educ_Level\", \"Savings\"]])"
   ]
  },
  {
   "cell_type": "code",
   "execution_count": 17,
   "metadata": {},
   "outputs": [
    {
     "data": {
      "text/html": [
       "<div>\n",
       "<style scoped>\n",
       "    .dataframe tbody tr th:only-of-type {\n",
       "        vertical-align: middle;\n",
       "    }\n",
       "\n",
       "    .dataframe tbody tr th {\n",
       "        vertical-align: top;\n",
       "    }\n",
       "\n",
       "    .dataframe thead th {\n",
       "        text-align: right;\n",
       "    }\n",
       "</style>\n",
       "<table border=\"1\" class=\"dataframe\">\n",
       "  <thead>\n",
       "    <tr style=\"text-align: right;\">\n",
       "      <th></th>\n",
       "      <th>Couple</th>\n",
       "      <th>Educ_Level</th>\n",
       "      <th>Salary</th>\n",
       "      <th>Cars</th>\n",
       "      <th>Home</th>\n",
       "      <th>Savings</th>\n",
       "      <th>SC_Index</th>\n",
       "    </tr>\n",
       "  </thead>\n",
       "  <tbody>\n",
       "  </tbody>\n",
       "</table>\n",
       "</div>"
      ],
      "text/plain": [
       "Empty DataFrame\n",
       "Columns: [Couple, Educ_Level, Salary, Cars, Home, Savings, SC_Index]\n",
       "Index: []"
      ]
     },
     "execution_count": 17,
     "metadata": {},
     "output_type": "execute_result"
    }
   ],
   "source": [
    "#checking for missing values\n",
    "data[data.isnull().any(axis = 1)]"
   ]
  },
  {
   "cell_type": "code",
   "execution_count": 28,
   "metadata": {},
   "outputs": [
    {
     "data": {
      "text/plain": [
       "[1, 2, 3, 4]\n",
       "Categories (4, int64): [1, 2, 3, 4]"
      ]
     },
     "execution_count": 28,
     "metadata": {},
     "output_type": "execute_result"
    }
   ],
   "source": [
    "#converting education level to factors\n",
    "Educ_Level = pd.Categorical([1, 2, 3, 4], categories = [1, 2, 3, 4])\n",
    "Educ_Level"
   ]
  },
  {
   "cell_type": "code",
   "execution_count": 29,
   "metadata": {},
   "outputs": [
    {
     "data": {
      "text/plain": [
       "pandas.core.arrays.categorical.Categorical"
      ]
     },
     "execution_count": 29,
     "metadata": {},
     "output_type": "execute_result"
    }
   ],
   "source": [
    "#checking data type\n",
    "type(Educ_Level)"
   ]
  },
  {
   "cell_type": "code",
   "execution_count": 34,
   "metadata": {},
   "outputs": [
    {
     "data": {
      "text/plain": [
       "[1, 2, 3, 4, 5, 6, 7, 8, 9, 10]\n",
       "Categories (10, int64): [1, 2, 3, 4, ..., 7, 8, 9, 10]"
      ]
     },
     "execution_count": 34,
     "metadata": {},
     "output_type": "execute_result"
    }
   ],
   "source": [
    "#converting education level to factors\n",
    "SC_Index = pd.Categorical([1, 2, 3, 4, 5, 6, 7, 8, 9, 10], categories = [1, 2, 3, 4, 5, 6, 7, 8, 9, 10])\n",
    "SC_Index"
   ]
  },
  {
   "cell_type": "code",
   "execution_count": 32,
   "metadata": {},
   "outputs": [
    {
     "data": {
      "text/plain": [
       "pandas.core.arrays.categorical.Categorical"
      ]
     },
     "execution_count": 32,
     "metadata": {},
     "output_type": "execute_result"
    }
   ],
   "source": [
    "type(SC_Index)"
   ]
  },
  {
   "cell_type": "code",
   "execution_count": 33,
   "metadata": {},
   "outputs": [
    {
     "data": {
      "text/plain": [
       "Couple        int64\n",
       "Educ_Level    int64\n",
       "Salary        int64\n",
       "Cars          int64\n",
       "Home          int64\n",
       "Savings       int64\n",
       "SC_Index      int64\n",
       "dtype: object"
      ]
     },
     "execution_count": 33,
     "metadata": {},
     "output_type": "execute_result"
    }
   ],
   "source": [
    "data.dtypes"
   ]
  },
  {
   "cell_type": "markdown",
   "metadata": {},
   "source": [
    "**Descriptive Statistics**\n",
    "\n",
    "Summarizes data.\n",
    "\n",
    ">Measures of centrfal tendency: *mean, mode and median*\n",
    "\n",
    ">Measures of dispersion: *standard deviation*"
   ]
  },
  {
   "cell_type": "code",
   "execution_count": 54,
   "metadata": {},
   "outputs": [],
   "source": [
    "import numpy as np"
   ]
  },
  {
   "cell_type": "code",
   "execution_count": 55,
   "metadata": {},
   "outputs": [
    {
     "data": {
      "text/plain": [
       "Couple    137.5\n",
       "dtype: float64"
      ]
     },
     "execution_count": 55,
     "metadata": {},
     "output_type": "execute_result"
    }
   ],
   "source": [
    "#mean\n",
    "np.mean(data[[\"Couple\"]])"
   ]
  },
  {
   "cell_type": "code",
   "execution_count": 56,
   "metadata": {},
   "outputs": [
    {
     "data": {
      "text/plain": [
       "Salary    98.120438\n",
       "dtype: float64"
      ]
     },
     "execution_count": 56,
     "metadata": {},
     "output_type": "execute_result"
    }
   ],
   "source": [
    "np.mean(data[[\"Salary\"]])"
   ]
  },
  {
   "cell_type": "code",
   "execution_count": 57,
   "metadata": {},
   "outputs": [
    {
     "data": {
      "text/plain": [
       "Cars    40.193431\n",
       "dtype: float64"
      ]
     },
     "execution_count": 57,
     "metadata": {},
     "output_type": "execute_result"
    }
   ],
   "source": [
    "np.mean(data[[\"Cars\"]])"
   ]
  },
  {
   "cell_type": "code",
   "execution_count": 58,
   "metadata": {},
   "outputs": [
    {
     "data": {
      "text/plain": [
       "Savings    528.970803\n",
       "dtype: float64"
      ]
     },
     "execution_count": 58,
     "metadata": {},
     "output_type": "execute_result"
    }
   ],
   "source": [
    "np.mean(data[[\"Savings\"]])"
   ]
  },
  {
   "cell_type": "code",
   "execution_count": 59,
   "metadata": {},
   "outputs": [
    {
     "data": {
      "text/plain": [
       "137.5"
      ]
     },
     "execution_count": 59,
     "metadata": {},
     "output_type": "execute_result"
    }
   ],
   "source": [
    "#median\n",
    "np.median(data[[\"Couple\"]])"
   ]
  },
  {
   "cell_type": "code",
   "execution_count": 60,
   "metadata": {},
   "outputs": [
    {
     "data": {
      "text/plain": [
       "99.0"
      ]
     },
     "execution_count": 60,
     "metadata": {},
     "output_type": "execute_result"
    }
   ],
   "source": [
    "np.median(data[[\"Salary\"]])"
   ]
  },
  {
   "cell_type": "code",
   "execution_count": 61,
   "metadata": {},
   "outputs": [
    {
     "data": {
      "text/plain": [
       "40.0"
      ]
     },
     "execution_count": 61,
     "metadata": {},
     "output_type": "execute_result"
    }
   ],
   "source": [
    "np.median(data[[\"Cars\"]])"
   ]
  },
  {
   "cell_type": "code",
   "execution_count": 62,
   "metadata": {},
   "outputs": [
    {
     "data": {
      "text/plain": [
       "531.5"
      ]
     },
     "execution_count": 62,
     "metadata": {},
     "output_type": "execute_result"
    }
   ],
   "source": [
    "np.median(data[[\"Savings\"]])"
   ]
  },
  {
   "cell_type": "code",
   "execution_count": 63,
   "metadata": {},
   "outputs": [
    {
     "data": {
      "text/plain": [
       "Couple        274\n",
       "Educ_Level    274\n",
       "Salary        274\n",
       "Cars          274\n",
       "Home          274\n",
       "Savings       274\n",
       "SC_Index      274\n",
       "dtype: int64"
      ]
     },
     "execution_count": 63,
     "metadata": {},
     "output_type": "execute_result"
    }
   ],
   "source": [
    "#count\n",
    "data.count()"
   ]
  },
  {
   "cell_type": "code",
   "execution_count": 64,
   "metadata": {},
   "outputs": [
    {
     "data": {
      "text/plain": [
       "Savings    297.547676\n",
       "dtype: float64"
      ]
     },
     "execution_count": 64,
     "metadata": {},
     "output_type": "execute_result"
    }
   ],
   "source": [
    "#stanard deviation\n",
    "np.std(data[[\"Savings\"]])"
   ]
  },
  {
   "cell_type": "code",
   "execution_count": 65,
   "metadata": {},
   "outputs": [
    {
     "data": {
      "text/plain": [
       "Cars    10.23568\n",
       "dtype: float64"
      ]
     },
     "execution_count": 65,
     "metadata": {},
     "output_type": "execute_result"
    }
   ],
   "source": [
    "np.std(data[[\"Cars\"]])"
   ]
  },
  {
   "cell_type": "code",
   "execution_count": 66,
   "metadata": {},
   "outputs": [
    {
     "data": {
      "text/plain": [
       "Salary    24.902806\n",
       "dtype: float64"
      ]
     },
     "execution_count": 66,
     "metadata": {},
     "output_type": "execute_result"
    }
   ],
   "source": [
    "np.std(data[[\"Salary\"]])"
   ]
  }
 ],
 "metadata": {
  "kernelspec": {
   "display_name": "Python 3",
   "language": "python",
   "name": "python3"
  },
  "language_info": {
   "codemirror_mode": {
    "name": "ipython",
    "version": 3
   },
   "file_extension": ".py",
   "mimetype": "text/x-python",
   "name": "python",
   "nbconvert_exporter": "python",
   "pygments_lexer": "ipython3",
   "version": "3.7.3"
  }
 },
 "nbformat": 4,
 "nbformat_minor": 2
}
